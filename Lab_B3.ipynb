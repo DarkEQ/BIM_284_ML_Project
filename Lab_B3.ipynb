{
  "cells": [
    {
      "cell_type": "markdown",
      "metadata": {
        "id": "2nLoTITdis1y"
      },
      "source": [
        "# **Lab B3:** Medical Imaging Analysis\n",
        "\n",
        "In this lab you will set up, and train a model that seeks to perform classification of medical OCT scans. In the data there are four classes of scans: Healthy, CNV, DME and DRUSEN. The last three are eye diseases that cause visible damage to the retina and can be spotted through the OCT scans.\n",
        "\n",
        "Your job is to set up the tranforms, the model, fit function, test function and the parameters. You must also tune the parameters and add more transforms to reach best performance possible.\n",
        "\n",
        "IMPORTANT: The data is divided in test, validation and train sets. Make sure to use all three sets properly."
      ]
    },
    {
      "cell_type": "code",
      "execution_count": null,
      "metadata": {
        "id": "usXliL3gi6Xx"
      },
      "outputs": [],
      "source": [
        "path_to_data = 'data/'\n",
        "path_train = path_to_data + 'train'\n",
        "path_test = path_to_data + 'test'\n",
        "path_val = path_to_data + 'val'"
      ]
    },
    {
      "cell_type": "markdown",
      "metadata": {
        "id": "LLw-EtRpixSd"
      },
      "source": [
        "**First Step:** Load the Data, setup Transforms, and Initialize the Dataloader\n",
        "\n",
        "\n",
        "[Here](https://pytorch.org/vision/stable/transforms.html) is a great resource to learn more about the different transforms that can be added. The goal of the transform is to properly prepare the data to be sent to the model and to add data augmentation. You may have pictures of different resolution sizes, so here is a good time to set a transform to make the sizes of images uniform."
      ]
    },
    {
      "cell_type": "code",
      "execution_count": null,
      "metadata": {
        "id": "MnD-fLlbin-E"
      },
      "outputs": [],
      "source": [
        "\n",
        "# Transforms for train set\n",
        "train_transform = transforms.Compose([\n",
        "                                      # Add Transforms\n",
        "])\n",
        "\n",
        "# Transforms for test/val set\n",
        "test-val_transform = transforms.Compose([\n",
        "                                     # Add Transforms\n",
        "                                 ])"
      ]
    },
    {
      "cell_type": "code",
      "execution_count": null,
      "metadata": {
        "id": "rCQzmL5wi4Sq"
      },
      "outputs": [],
      "source": [
        "batchsize = # decide your batch size. REMEMBER: If your batch size is too big, you won't be able to load the data to the GPU\n",
        "\n",
        "#Initialize dataloader for train set\n",
        "dataset_train = #code dataset\n",
        "train_loader = torch.utils.data.DataLoader(dataset_train, batch_size = batchsize, shuffle=True)\n",
        "\n",
        "#Initialize dataloader for test set\n",
        "dataset_test = #code dataset\n",
        "test_loader = torch.utils.data.DataLoader(dataset_test, batch_size = batchsize, shuffle=False)\n",
        "\n",
        "#Initialize dataloader for val set\n",
        "dataset_val = #code dataset\n",
        "val_loader = torch.utils.data.DataLoader(dataset_val, batch_size = batchsize, shuffle=True)"
      ]
    },
    {
      "cell_type": "markdown",
      "metadata": {
        "id": "3ETEYXSxjJ9e"
      },
      "source": [
        "**Second Step:** Design Model's Architecture and code it here in with PyTorch.\n",
        "\n"
      ]
    },
    {
      "cell_type": "code",
      "execution_count": null,
      "metadata": {
        "id": "tnsRWWwgjJLN"
      },
      "outputs": [],
      "source": [
        "# Choose model architecture\n",
        "model =\n"
      ]
    },
    {
      "cell_type": "markdown",
      "metadata": {
        "id": "zcFDnokrjQ7h"
      },
      "source": [
        "**Third Step:** Code Fit and Test functions. This is similar to Lab 3, but this time make sure to use the validation set as well."
      ]
    },
    {
      "cell_type": "code",
      "execution_count": null,
      "metadata": {
        "id": "slvFz-2NjQHp"
      },
      "outputs": [],
      "source": [
        "# Code fit function\n",
        "def fit():\n",
        "\n",
        "\n",
        "\n",
        "# Code test function\n",
        "def test_accuracy():\n"
      ]
    },
    {
      "cell_type": "markdown",
      "metadata": {
        "id": "pwH0Q4BrjXBy"
      },
      "source": [
        "**Fourth Step:** Set Parameters and run model.\n"
      ]
    },
    {
      "cell_type": "code",
      "execution_count": null,
      "metadata": {
        "id": "A9KLkX97mN8l"
      },
      "outputs": [],
      "source": [
        "torch.manual_seed(0)\n",
        "\n",
        "\n",
        "##Set up parameters\n",
        "input_size =\n",
        "num_classes =\n",
        "num_epochs =\n",
        "lr =\n",
        "\n",
        "#Initialize model and send it to cuda\n",
        "net = model\n",
        "device = torch.device('cuda:0' if torch.cuda.is_available() else 'cpu')\n",
        "net.to(device)\n",
        "\n",
        "#Set loss function and optimizer\n",
        "loss_function =\n",
        "optimizer =\n",
        "\n",
        "#perform fit\n",
        "\n",
        "#perform test\n",
        "\n",
        "\n",
        "##### LAST STEP, SAVE MODEL\n",
        "path_model_save = #choose path to save model\n",
        "torch.save(net.state_dict(), path_model_save)"
      ]
    },
    {
      "cell_type": "markdown",
      "metadata": {
        "id": "CFz5xU9b6xtx"
      },
      "source": [
        "**Fifth Step:** Model interpretability.\n",
        "\n",
        "For this assignment, you will interpret the model's results through the use of saliency mapping. You will use the following package: [GitHub](https://github.com/jacobgil/pytorch-grad-cam).\n",
        "\n",
        "You are expected to install the package on your environment and go through the GitHub to learn its application. Below is an example code to help you get started:"
      ]
    },
    {
      "cell_type": "code",
      "execution_count": null,
      "metadata": {
        "id": "k71WRu0v6124"
      },
      "outputs": [],
      "source": [
        "### Sample Use with ResNet50:\n",
        "\n",
        "from pytorch_grad_cam import GradCAM, HiResCAM, ScoreCAM, GradCAMPlusPlus, AblationCAM, XGradCAM, EigenCAM, FullGrad\n",
        "from pytorch_grad_cam.utils.model_targets import ClassifierOutputTarget\n",
        "from pytorch_grad_cam.utils.image import show_cam_on_image\n",
        "from torchvision.models import resnet50\n",
        "\n",
        "model = resnet50(pretrained=True)\n",
        "target_layers = [model.layer4[-1]]\n",
        "\n",
        "\n",
        "input_tensor = # Your input data\n",
        "\n",
        "\n",
        "# Note: input_tensor can be a batch tensor with several images!\n",
        "\n",
        "# Construct the CAM object once, and then re-use it on many images:\n",
        "cam = GradCAM(model=model, target_layers=target_layers, use_cuda=False)\n",
        "\n",
        "targets = ### your label\n",
        "\n",
        "# You can also pass aug_smooth=True and eigen_smooth=True, to apply smoothing.\n",
        "grayscale_cam = cam(input_tensor=input_tensor, targets=targets)\n",
        "\n",
        "# In this example grayscale_cam has only one image in the batch:\n",
        "grayscale_cam = grayscale_cam[0, :]\n",
        "visualization = show_cam_on_image(rgb_img, grayscale_cam, use_rgb=True)"
      ]
    }
  ],
  "metadata": {
    "colab": {
      "provenance": []
    },
    "kernelspec": {
      "display_name": "Python 3",
      "name": "python3"
    },
    "language_info": {
      "name": "python",
      "version": "3.10.8"
    }
  },
  "nbformat": 4,
  "nbformat_minor": 0
}
